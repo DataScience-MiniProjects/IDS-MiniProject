{
 "cells": [
  {
   "cell_type": "markdown",
   "source": [
    "Finns and Alcohol Consumption: Do Seasonal Changes in Weather Affect Our Drinking Habits? \r\n",
    "Sini Suihkonen, Outi Savolainen and Fanni Franssila"
   ],
   "metadata": {}
  },
  {
   "cell_type": "markdown",
   "source": [],
   "metadata": {}
  },
  {
   "cell_type": "code",
   "execution_count": 1,
   "source": [
    "import pandas as pd\n",
    "import numpy as numpy\n",
    "import matplotlib.pyplot as plt\n",
    "from sklearn.linear_model import LinearRegression"
   ],
   "outputs": [],
   "metadata": {}
  },
  {
   "cell_type": "code",
   "execution_count": 2,
   "source": [
    "print()"
   ],
   "outputs": [
    {
     "output_type": "stream",
     "name": "stdout",
     "text": [
      "\n"
     ]
    }
   ],
   "metadata": {}
  },
  {
   "cell_type": "code",
   "execution_count": 3,
   "source": [
    "def load_xls(file_name:str, year: int):\n",
    "    dataframes = []\n",
    "    months = [\"Tammi\", \"Helmi\", \"Maalis\", \"Huhti\", \"Touko\", \"Kesä\", \"Heinä\", \"Elo\", \"Syys\", \"Loka\", \"Marras\", \"Joulu\"]\n",
    "    xls = pd.ExcelFile(file_name)\n",
    "    for month in months:\n",
    "        name_of_sheet = f\"{month}kuu {year}\"\n",
    "        df = pd.read_excel(xls, name_of_sheet,skiprows=[0,1,2], usecols=(\"I\"))\n",
    "        df[f\"{month}kuu{year}\"] = pd.concat([df.iloc[3:4], df.iloc[14:15], df.iloc[21:22], df.iloc[34:35]])\n",
    "        df = df.dropna()\n",
    "        df = df.iloc[:, 1:]\n",
    "        df = df.rename(index={3:\"Beer\", 14:\"Wine\", 21:\"Strong Wine\", 34:\"Spririts\"})\n",
    "        dataframes.append(df)\n",
    "        total = pd.concat(dataframes, axis=1)\n",
    "    \n",
    "    return total\n",
    "\n",
    "alc_data2020 = load_xls(\"Alkoholimyyntitilasto_tammi_joulukuu_2020.xlsx\", 2020)\n",
    "alc_data2019 = load_xls(\"Alkoholimyyntitilasto_tammi_joulukuu_2019.xlsx\", 2019)\n",
    "alc_data2018 = load_xls(\"Alkoholimyyntitilasto_tammi_joulukuu_2018.xlsx\", 2018)\n",
    "alc_data2017 = load_xls(\"Alkoholimyyntitilasto_tammi_joulukuu_2017.xlsx\", 2017)\n",
    "#print(alc_data2020)\n",
    "#print(alc_data2019)\n",
    "#print()\n",
    "#print(alc_data2018)\n",
    "#print()\n",
    "#print(alc_data2017)\n",
    "#print()"
   ],
   "outputs": [],
   "metadata": {}
  }
 ],
 "metadata": {
  "orig_nbformat": 4,
  "language_info": {
   "name": "python",
   "version": "3.8.8",
   "mimetype": "text/x-python",
   "codemirror_mode": {
    "name": "ipython",
    "version": 3
   },
   "pygments_lexer": "ipython3",
   "nbconvert_exporter": "python",
   "file_extension": ".py"
  },
  "kernelspec": {
   "name": "python3",
   "display_name": "Python 3.8.8 64-bit ('base': conda)"
  },
  "interpreter": {
   "hash": "14f0dba634ff4c95121aefa57b5c0345274ed7846f71f34bb1c202a7e3e38dd8"
  }
 },
 "nbformat": 4,
 "nbformat_minor": 2
}