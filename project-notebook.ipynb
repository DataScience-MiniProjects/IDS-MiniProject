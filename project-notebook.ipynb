{
 "cells": [
  {
   "cell_type": "markdown",
   "source": [
    "Finns and Alcohol Consumption: Do Seasonal Changes in Weather Affect Our Drinking Habits? \r\n",
    "Sini Suihkonen, Outi Savolainen and Fanni Franssila"
   ],
   "metadata": {}
  },
  {
   "cell_type": "markdown",
   "source": [],
   "metadata": {}
  },
  {
   "cell_type": "code",
   "execution_count": null,
   "source": [
    "import pandas as pd\n",
    "import numpy as numpy\n",
    "import matplotlib.pyplot as plt\n",
    "from sklearn.linear_model import LinearRegression"
   ],
   "outputs": [],
   "metadata": {}
  },
  {
   "cell_type": "code",
   "execution_count": null,
   "source": [
    "xls = pd.ExcelFile(\"Alkoholimyyntitilasto_tammi-joulukuu_2020.xlsx\")\n",
    "df1 = pd.read_excel(xls, \"Tammikuu 2020\", index_col=1, skiprows=3)\n",
    "df2 = pd.read_excel(xls, \"Helmikuu 2020\", index_col=1, skiprows=3)\n",
    "df3 = pd.read_excel(xls, \"Maaliskuu 2020\", index_col=1, skiprows=3)\n",
    "df4 = pd.read_excel(xls, \"Huhtikuu 2020\", index_col=1, skiprows=3)\n",
    "df5 = pd.read_excel(xls, \"Toukokuu 2020\", index_col=1, skiprows=3)\n",
    "df6 = pd.read_excel(xls, \"Kesäkuu 2020\", index_col=1, skiprows=3)\n",
    "df7 = pd.read_excel(xls, \"Heinäkuu 2020\", index_col=1, skiprows=3)\n",
    "df8 = pd.read_excel(xls, \"Elokuu 2020\", index_col=1, skiprows=3)\n",
    "df9 = pd.read_excel(xls, \"Syyskuu 2020\", index_col=1, skiprows=3)\n",
    "df10 = pd.read_excel(xls, \"Lokakuu 2020\", index_col=1, skiprows=3)\n",
    "df11 = pd.read_excel(xls, \"Marraskuu 2020\", index_col=1, skiprows=3)\n",
    "df12 = pd.read_excel(xls, \"Joulukuu 2020\", index_col=1, skiprows=3, nrows=37)\n",
    "df12 = df12.drop(columns=[\"Juomaryhmä\"]) \n",
    "print(df12)"
   ],
   "outputs": [],
   "metadata": {}
  },
  {
   "cell_type": "code",
   "execution_count": null,
   "source": [
    "#def load_xls(file_name, sheet_number):\n",
    "data2 = pd.read_excel(open('Alkoholimyyntitilasto_tammi-joulukuu_2020.xlsx', 'rb'),\n",
    "              sheet_name='Tammikuu 2020')\n",
    "\n"
   ],
   "outputs": [],
   "metadata": {}
  }
 ],
 "metadata": {
  "orig_nbformat": 4,
  "language_info": {
   "name": "python",
   "version": "3.8.8",
   "mimetype": "text/x-python",
   "codemirror_mode": {
    "name": "ipython",
    "version": 3
   },
   "pygments_lexer": "ipython3",
   "nbconvert_exporter": "python",
   "file_extension": ".py"
  },
  "kernelspec": {
   "name": "python3",
   "display_name": "Python 3.8.8 64-bit ('base': conda)"
  },
  "interpreter": {
   "hash": "14f0dba634ff4c95121aefa57b5c0345274ed7846f71f34bb1c202a7e3e38dd8"
  }
 },
 "nbformat": 4,
 "nbformat_minor": 2
}