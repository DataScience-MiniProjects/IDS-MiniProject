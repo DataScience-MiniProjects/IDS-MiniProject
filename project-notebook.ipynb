{
 "cells": [
  {
   "cell_type": "markdown",
   "source": [
    "Finns and Alcohol Consumption: Do Seasonal Changes in Weather Affect Our Drinking Habits? \r\n",
    "Sini Suihkonen, Outi Savolainen and Fanni Franssila"
   ],
   "metadata": {}
  },
  {
   "cell_type": "markdown",
   "source": [],
   "metadata": {}
  },
  {
   "cell_type": "code",
   "execution_count": 1,
   "source": [
    "import pandas as pd\n",
    "import numpy as numpy\n",
    "import matplotlib.pyplot as plt\n",
    "from sklearn.linear_model import LinearRegression"
   ],
   "outputs": [],
   "metadata": {}
  },
  {
   "cell_type": "code",
   "execution_count": 2,
   "source": [
    "print()"
   ],
   "outputs": [
    {
     "output_type": "stream",
     "name": "stdout",
     "text": [
      "\n"
     ]
    }
   ],
   "metadata": {}
  },
  {
   "cell_type": "code",
   "execution_count": 4,
   "source": [
    "def load_xls(file_name:str, year: int):\n",
    "    dataframes = []\n",
    "    months = [\"Tammi\", \"Helmi\", \"Maalis\", \"Huhti\", \"Touko\", \"Kesä\", \"Heinä\", \"Elo\", \"Syys\", \"Loka\", \"Marras\", \"Joulu\"]\n",
    "    xls = pd.ExcelFile(file_name)\n",
    "    for month in months:\n",
    "        name_of_sheet = f\"{month}kuu {year}\"\n",
    "        df = pd.read_excel(xls, name_of_sheet,skiprows=[0,1,2], usecols=(\"I\"))\n",
    "        # Add month column to the dataframe. For example \"Tammikuu2020\".\n",
    "        df[f\"{month}kuu{year}\"] = pd.concat([df.iloc[3:4], df.iloc[14:15], df.iloc[21:22], df.iloc[34:35]])\n",
    "        # Drop rows with NaNs. After this we have only four rows containing total consumption for all types of alchohol.\n",
    "        df = df.dropna()\n",
    "        # Remove the first useless row of the dataframe.\n",
    "        df = df.iloc[:, 1:]\n",
    "        # Change index names\n",
    "        df = df.rename(index={3:\"Beer\", 14:\"Wine\", 21:\"Strong Wine\", 34:\"Spririts\"})\n",
    "        dataframes.append(df)\n",
    "    total = pd.concat(dataframes, axis=1)\n",
    "    \n",
    "    return total\n",
    "\n",
    "alc_data2020 = load_xls(\"Alkoholimyyntitilasto_tammi_joulukuu_2020.xlsx\", 2020)\n",
    "alc_data2019 = load_xls(\"Alkoholimyyntitilasto_tammi_joulukuu_2019.xlsx\", 2019)\n",
    "alc_data2018 = load_xls(\"Alkoholimyyntitilasto_tammi_joulukuu_2018.xlsx\", 2018)\n",
    "alc_data2017 = load_xls(\"Alkoholimyyntitilasto_tammi_joulukuu_2017.xlsx\", 2017)\n",
    "print(alc_data2020)\n",
    "print(alc_data2019)\n",
    "print()\n",
    "print(alc_data2018)\n",
    "print()\n",
    "print(alc_data2017)\n",
    "print()"
   ],
   "outputs": [
    {
     "output_type": "stream",
     "name": "stdout",
     "text": [
      "             Tammikuu2020 Helmikuu2020 Maaliskuu2020 Huhtikuu2020  \\\n",
      "Beer              24824.0        24832         28384        32975   \n",
      "Wine               5675.0         6277          7240         9430   \n",
      "Strong Wine         146.0          147           152          170   \n",
      "Spririts           3978.0         4361          4955         5887   \n",
      "\n",
      "            Toukokuu2020 Kesäkuu2020 Heinäkuu2020 Elokuu2020 Syyskuu2020  \\\n",
      "Beer               32232       43291        36599      32270       29856   \n",
      "Wine                8331       11718        10699       8431        7311   \n",
      "Strong Wine          149         162          145         95         147   \n",
      "Spririts            5483        8410         7608       6377        5416   \n",
      "\n",
      "            Lokakuu2020 Marraskuu2020 Joulukuu2020  \n",
      "Beer              28856         26986        36284  \n",
      "Wine               7867          7202        10834  \n",
      "Strong Wine         206           281          549  \n",
      "Spririts           5859          4724         6387  \n",
      "             Tammikuu2019 Helmikuu2019 Maaliskuu2019 Huhtikuu2019  \\\n",
      "Beer              24935.0        26538         29105        36692   \n",
      "Wine               5647.0         6240          7144         9470   \n",
      "Strong Wine         159.0          149           162          169   \n",
      "Spririts           3812.0         4058          5044         6245   \n",
      "\n",
      "            Toukokuu2019 Kesäkuu2019 Heinäkuu2019 Elokuu2019 Syyskuu2019  \\\n",
      "Beer               34020       40329        39285      33094  29278.0143   \n",
      "Wine                8282       10456        10468       8473   6892.4918   \n",
      "Strong Wine          156         164          171        173     153.145   \n",
      "Spririts            5694        7521         7502       6188   4914.3512   \n",
      "\n",
      "            Lokakuu2019 Marraskuu2019 Joulukuu2019  \n",
      "Beer         31161.7082         29648        34445  \n",
      "Wine           7449.257          7528        10351  \n",
      "Strong Wine     205.765           285          479  \n",
      "Spririts      5262.8885          5011         6173  \n",
      "\n",
      "             Tammikuu2018 Helmikuu2018 Maaliskuu2018 Huhtikuu2018  \\\n",
      "Beer              24212.0        24690         33857        33236   \n",
      "Wine               6451.0         6748          9072         8712   \n",
      "Strong Wine         161.0          158           190          163   \n",
      "Spririts           3787.0         3772          4988         4859   \n",
      "\n",
      "            Toukokuu2018 Kesäkuu2018 Heinäkuu2018 Elokuu2018 Syyskuu2018  \\\n",
      "Beer               37103       39426        40706      35959       29021   \n",
      "Wine                9465       11161        10978       9537        7179   \n",
      "Strong Wine          160         183          171        179         167   \n",
      "Spririts            5684        6755         7055       6120        4568   \n",
      "\n",
      "            Lokakuu2018 Marraskuu2018 Joulukuu2018  \n",
      "Beer              33545         29405        35336  \n",
      "Wine               7677          7785        10756  \n",
      "Strong Wine         216           309          597  \n",
      "Spririts           4882          4958         6056  \n",
      "\n",
      "             Tammikuu2017 Helmikuu2017 Maaliskuu2017 Huhtikuu2017  \\\n",
      "Beer              25346.0        28069         33848        36812   \n",
      "Wine               6613.0         7754          9336        11155   \n",
      "Strong Wine         169.0          168           192          184   \n",
      "Spririts           2236.0         2508          2961         3009   \n",
      "\n",
      "            Toukokuu2017 Kesäkuu2017 Heinäkuu2017 Elokuu2017 Syyskuu2017  \\\n",
      "Beer               33262       42572        37504      36328       31624   \n",
      "Wine                9828       13947        12197      10897        9227   \n",
      "Strong Wine          174         197          190        192         192   \n",
      "Spririts            2794        3739         3699       3280        2944   \n",
      "\n",
      "            Lokakuu2017 Marraskuu2017 Joulukuu2017  \n",
      "Beer              31169         31318        38578  \n",
      "Wine               8675          9177        12572  \n",
      "Strong Wine         219           299          582  \n",
      "Spririts           2683          2961         4403  \n",
      "\n"
     ]
    }
   ],
   "metadata": {}
  }
 ],
 "metadata": {
  "orig_nbformat": 4,
  "language_info": {
   "name": "python",
   "version": "3.8.8",
   "mimetype": "text/x-python",
   "codemirror_mode": {
    "name": "ipython",
    "version": 3
   },
   "pygments_lexer": "ipython3",
   "nbconvert_exporter": "python",
   "file_extension": ".py"
  },
  "kernelspec": {
   "name": "python3",
   "display_name": "Python 3.8.8 64-bit ('base': conda)"
  },
  "interpreter": {
   "hash": "14f0dba634ff4c95121aefa57b5c0345274ed7846f71f34bb1c202a7e3e38dd8"
  }
 },
 "nbformat": 4,
 "nbformat_minor": 2
}